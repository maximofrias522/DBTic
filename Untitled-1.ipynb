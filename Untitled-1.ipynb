{
 "cells": [
  {
   "cell_type": "code",
   "execution_count": null,
   "metadata": {},
   "outputs": [],
   "source": [
    "import sqlite3\n",
    "import nltk \n",
    "\n",
    "nltk.download('punkt')\n",
    "nltk.download('averaged_perceptron_tagger')\n",
    "nltk.download('maxent_ne_chunker')\n",
    "nltk.download('words')\n",
    "\n",
    "def recognize_names(text):\n",
    "    sentences = nltk.sent_tokenize(text)\n",
    "    tokenized_sentences = [nltk.word_tokenize(sentence) for sentence in sentences]\n",
    "    tagged_sentences = [nltk.pos_tag(sentence) for sentence in tokenized_sentences]\n",
    "    named_entities = nltk.ne_chunk_sents(tagged_sentences, binary=True)\n",
    "\n",
    "    names = []\n",
    "    for tree in named_entities:\n",
    "        for entity in tree:\n",
    "            if hasattr(entity, 'label') and entity.label() == 'NE':\n",
    "                names.append(' '.join([child[0] for child in entity]))\n",
    "\n",
    "    return names\n",
    "\n",
    "# text = \"Maximo Frias es hijo de Flavio Frias\"\n",
    "# names = recognize_names(text)\n",
    "# print(names)\n",
    "\n",
    "conn = sqlite3.connect('DBTic.db')\n",
    "c = conn.cursor\n",
    "\n",
    "c.execute(\"SELECT Titulo FROM Ambito_Financiero\")\n",
    "\n",
    "result = [row[0] for row in c.fetchall()]\n",
    "names = recognize_names(result)\n",
    "print(names)\n",
    "\n",
    "\n",
    "\n"
   ]
  }
 ],
 "metadata": {
  "kernelspec": {
   "display_name": "Python 3",
   "language": "python",
   "name": "python3"
  },
  "language_info": {
   "codemirror_mode": {
    "name": "ipython",
    "version": 3
   },
   "file_extension": ".py",
   "mimetype": "text/x-python",
   "name": "python",
   "nbconvert_exporter": "python",
   "pygments_lexer": "ipython3",
   "version": "3.8.10"
  },
  "orig_nbformat": 4
 },
 "nbformat": 4,
 "nbformat_minor": 2
}
